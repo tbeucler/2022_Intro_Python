{
  "nbformat": 4,
  "nbformat_minor": 0,
  "metadata": {
    "colab": {
      "provenance": [],
      "include_colab_link": true
    },
    "kernelspec": {
      "name": "python3",
      "display_name": "Python 3"
    },
    "language_info": {
      "name": "python"
    }
  },
  "cells": [
    {
      "cell_type": "markdown",
      "metadata": {
        "id": "view-in-github",
        "colab_type": "text"
      },
      "source": [
        "<a href=\"https://colab.research.google.com/github/tbeucler/2022_Intro_Python/blob/main/Exercises/W3_S2.ipynb\" target=\"_parent\"><img src=\"https://colab.research.google.com/assets/colab-badge.svg\" alt=\"Open In Colab\"/></a>"
      ]
    },
    {
      "cell_type": "markdown",
      "metadata": {
        "id": "e1cdc987"
      },
      "source": [
        "# GeoPandas"
      ]
    },
    {
      "cell_type": "markdown",
      "source": [
        "## 0.Install GeoPandas\n",
        "Please run the following code blocks in this section to:\n",
        "* Install the GeoPandas's dependencies and GeoPandas\n",
        "* Download and unzip the data used in this notebook\n",
        "* Import GeoPandas and other required modules for the notebook"
      ],
      "metadata": {
        "id": "FGK9JHUkutNy"
      }
    },
    {
      "cell_type": "code",
      "source": [
        "#Install the GeoPandas's dependencies\n",
        "!pip install --upgrade pyshp\n",
        "\n",
        "!pip install --upgrade shapely\n",
        "\n",
        "!pip install --upgrade descartes\n",
        "\n",
        "!pip install --upgrade rtree"
      ],
      "metadata": {
        "id": "wcyinTQVuoOm"
      },
      "execution_count": null,
      "outputs": []
    },
    {
      "cell_type": "code",
      "source": [
        "#Install the GeoPandas\n",
        "\n",
        "!pip install --upgrade geopandas"
      ],
      "metadata": {
        "id": "tIRleXwFvDC2"
      },
      "execution_count": null,
      "outputs": []
    },
    {
      "cell_type": "code",
      "source": [
        "#Download the data used in this notebook\n",
        "!gdown 1b1lngOIvuNnZxepbT8RyV3KX1itRky5z"
      ],
      "metadata": {
        "id": "bdKuowGVyGeO"
      },
      "execution_count": null,
      "outputs": []
    },
    {
      "cell_type": "code",
      "source": [
        "#Unzip the data used in this notebook\n",
        "!unzip '/content/data.zip'"
      ],
      "metadata": {
        "id": "5rkcEABq13_8"
      },
      "execution_count": null,
      "outputs": []
    },
    {
      "cell_type": "markdown",
      "metadata": {
        "id": "f4a3ef56"
      },
      "source": [
        "\n",
        "\n",
        "\n",
        "\n",
        "References:    \n",
        "1. Geopandas official website: Introduction to GeoPandas\n",
        "https://geopandas.org/en/stable/getting_started/introduction.html   \n",
        "2. Automating GIS process\n",
        "https://autogis-site.readthedocs.io/en/latest/notebooks/L2/01-geopandas-basics.html    \n",
        "3. Use Data for Earth and Environmental Science in Open Source Python\n",
        "https://www.earthdatascience.org/courses/use-data-open-source-python/\n",
        "4. The Shapely User Manual \n",
        "https://shapely.readthedocs.io/en/stable/manual.html\n",
        "5. Geospatial Analysis with Python and R \n",
        "https://kodu.ut.ee/~kmoch/geopython2020/index.html\n",
        "6. Introduction to Geospatial Data in Python \n",
        "https://www.datacamp.com/tutorial/geospatial-data-python"
      ]
    },
    {
      "cell_type": "markdown",
      "metadata": {
        "id": "5673922f"
      },
      "source": [
        "## Exercises\n",
        "\n",
        "* Apply GeoPandas to read in the geospatial data, plot, and analyse the track of Hurricane Florence from August 30th to September 18th 2018.\n",
        "* Please replace ____ with your codes."
      ]
    },
    {
      "cell_type": "markdown",
      "metadata": {
        "id": "0a1c7c83"
      },
      "source": [
        "#### Q1) import geopandas, pandas"
      ]
    },
    {
      "cell_type": "code",
      "execution_count": null,
      "metadata": {
        "id": "d74306b3"
      },
      "outputs": [],
      "source": [
        "#Import GeoPandas and other required modules for the notebook\n",
        "import ____ as gpd\n",
        "import ____ as pd\n",
        "import matplotlib.pyplot as plt\n",
        "\n",
        "import warnings\n",
        "warnings.filterwarnings('ignore')"
      ]
    },
    {
      "cell_type": "markdown",
      "metadata": {
        "id": "0a2391ee"
      },
      "source": [
        "#### Q2) Read a Shapefile with GeoPandas's read_file function"
      ]
    },
    {
      "cell_type": "code",
      "execution_count": null,
      "metadata": {
        "id": "19a76121"
      },
      "outputs": [],
      "source": [
        "# Read data with the geopandas function\n",
        "path = r\"/content/data/hurricane-data/gz_2010_us_040_00_5m.json\"\n",
        "country = gpd.____(path)"
      ]
    },
    {
      "cell_type": "markdown",
      "metadata": {
        "id": "ed45038d"
      },
      "source": [
        "#### Q3) Have a look at the data, what type of geometries does the data contain? "
      ]
    },
    {
      "cell_type": "code",
      "execution_count": null,
      "metadata": {
        "id": "f61c4f18"
      },
      "outputs": [],
      "source": [
        "# The method to see the first few lines of the datra\n",
        "country.____()"
      ]
    },
    {
      "cell_type": "markdown",
      "metadata": {
        "id": "a95d1bd7"
      },
      "source": [
        "#### Q4) Have a look at the data on a map using GeoPandas's .plot() method. Exclude Alaska and Hawaii by the attribute 'NAME' and Pandas's .isin() method. Specify the figsize to be 30 x 20. "
      ]
    },
    {
      "cell_type": "code",
      "execution_count": null,
      "metadata": {
        "id": "2c81f2a1"
      },
      "outputs": [],
      "source": [
        "# Plot the US states (Alaska and Hawaii excluded)\n",
        "country[country[____].isin([____,____]) == False].____(figsize=(30,20))"
      ]
    },
    {
      "cell_type": "code",
      "execution_count": null,
      "metadata": {
        "id": "fdba6d03"
      },
      "outputs": [],
      "source": [
        "# Read in the hurricane florence data, change the longitude, and have a look at the hurricane florence dataframe\n",
        "path = r\"/content/data/hurricane-data/florence.csv\"\n",
        "florence = pd.read_csv(path)\n",
        "florence = florence.drop(['AdvisoryNumber', 'Forecaster', 'Received'], axis=1)\n",
        "florence['Long'] = 0 - florence['Long']\n",
        "florence.head(3)"
      ]
    },
    {
      "cell_type": "markdown",
      "metadata": {
        "id": "1646d2c9"
      },
      "source": [
        "#### Q5) Create a GeoDataFrame from florence DataFrame"
      ]
    },
    {
      "cell_type": "code",
      "execution_count": null,
      "metadata": {
        "id": "98c2e9ec"
      },
      "outputs": [],
      "source": [
        "# Create a geodataframe from the hurricane florence dataframe\n",
        "gdf_florence = gpd.____(florence, geometry=gpd.____(florence.Long, florence.Lat))"
      ]
    },
    {
      "cell_type": "code",
      "execution_count": null,
      "metadata": {
        "id": "f8e55216"
      },
      "outputs": [],
      "source": [
        "# Have a look at the hurricane geodataframe\n",
        "gdf_florence.head(2)"
      ]
    },
    {
      "cell_type": "markdown",
      "metadata": {
        "id": "52e7a858"
      },
      "source": [
        "#### Q6) Plot the US states map (without Alaska, Hawaii) and hurricane florence together"
      ]
    },
    {
      "cell_type": "code",
      "execution_count": null,
      "metadata": {
        "id": "fece9652"
      },
      "outputs": [],
      "source": [
        "# Plotting to see the hurricane overlay the US map:\n",
        "fig, ax = plt.subplots(1, figsize=(30,20))\n",
        "base = country[country[____].isin([____,____]) == False].____(ax=ax, color='#3B3C6E')\n",
        "\n",
        "# plotting the hurricane position on top with red color to stand out:\n",
        "gdf_florence.____(ax=base, color='darkred', marker=\"*\", markersize=10)"
      ]
    },
    {
      "cell_type": "markdown",
      "metadata": {
        "id": "d4f5d572"
      },
      "source": [
        "#### Q7) What's the coordinate reference system of the data?"
      ]
    },
    {
      "cell_type": "code",
      "execution_count": null,
      "metadata": {
        "id": "a635b62d"
      },
      "outputs": [],
      "source": [
        "# Check the coordinate reference system of the geodataframe\n",
        "country.____"
      ]
    },
    {
      "cell_type": "markdown",
      "metadata": {
        "id": "440e442f"
      },
      "source": [
        "#### Q8) Which states are passed by the hurricane? \n",
        "*hint: One approach may be plot and see the trajectory of the hurricane on the US map. Other approaches are more than welcome."
      ]
    },
    {
      "cell_type": "code",
      "source": [
        "# Plot the US states without Alaska and Hawaii\n",
        "df = country[country[____].isin([____,____]) == False]\n",
        "ax = df.plot(figsize=(30,20))\n",
        "#  Annotate the US states with their names\n",
        "_ = df.apply(lambda x: ax.____(s=x['NAME'], xy=x.geometry.centroid.coords[0], ha='center'), axis=1)\n",
        "# Select the hurricane trajectory points inside the US boundary with the overlay operation\n",
        "res_intersection = gdf_florence.____(country, how='intersection')\n",
        "# Plot the hurricane trajectory inside US boundary\n",
        "____.plot(ax=ax, color='red', marker=\"*\", markersize=25)\n"
      ],
      "metadata": {
        "id": "fDuqr-kaxHav"
      },
      "execution_count": null,
      "outputs": []
    }
  ]
}