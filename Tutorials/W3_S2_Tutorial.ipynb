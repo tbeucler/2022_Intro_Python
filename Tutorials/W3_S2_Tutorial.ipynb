{
  "cells": [
    {
      "cell_type": "markdown",
      "metadata": {
        "id": "view-in-github",
        "colab_type": "text"
      },
      "source": [
        "<a href=\"https://colab.research.google.com/github/tbeucler/2022_Intro_Python/blob/main/Tutorials/W3_S2_Tutorial.ipynb\" target=\"_parent\"><img src=\"https://colab.research.google.com/assets/colab-badge.svg\" alt=\"Open In Colab\"/></a>"
      ]
    },
    {
      "cell_type": "markdown",
      "id": "e1cdc987",
      "metadata": {
        "id": "e1cdc987"
      },
      "source": [
        "# GeoPandas"
      ]
    },
    {
      "cell_type": "markdown",
      "source": [
        "## 0.Install GeoPandas\n",
        "Please run the following code blocks in this section to:\n",
        "* Install the GeoPandas's dependencies and GeoPandas\n",
        "* Download and unzip the data used in this notebook\n",
        "* Import GeoPandas and other required modules for the notebook"
      ],
      "metadata": {
        "id": "FGK9JHUkutNy"
      },
      "id": "FGK9JHUkutNy"
    },
    {
      "cell_type": "code",
      "source": [
        "#Install the GeoPandas's dependencies\n",
        "!pip install --upgrade pyshp\n",
        "\n",
        "!pip install --upgrade shapely\n",
        "\n",
        "!pip install --upgrade descartes\n",
        "\n",
        "!pip install --upgrade rtree"
      ],
      "metadata": {
        "id": "wcyinTQVuoOm",
        "colab": {
          "base_uri": "https://localhost:8080/"
        },
        "outputId": "b15208e6-af46-478f-c4af-007ab8974053"
      },
      "id": "wcyinTQVuoOm",
      "execution_count": 1,
      "outputs": [
        {
          "output_type": "stream",
          "name": "stdout",
          "text": [
            "Looking in indexes: https://pypi.org/simple, https://us-python.pkg.dev/colab-wheels/public/simple/\n",
            "Requirement already satisfied: pyshp in /usr/local/lib/python3.7/dist-packages (2.3.1)\n",
            "Looking in indexes: https://pypi.org/simple, https://us-python.pkg.dev/colab-wheels/public/simple/\n",
            "Requirement already satisfied: shapely in /usr/local/lib/python3.7/dist-packages (1.8.4)\n",
            "Looking in indexes: https://pypi.org/simple, https://us-python.pkg.dev/colab-wheels/public/simple/\n",
            "Requirement already satisfied: descartes in /usr/local/lib/python3.7/dist-packages (1.1.0)\n",
            "Requirement already satisfied: matplotlib in /usr/local/lib/python3.7/dist-packages (from descartes) (3.2.2)\n",
            "Requirement already satisfied: pyparsing!=2.0.4,!=2.1.2,!=2.1.6,>=2.0.1 in /usr/local/lib/python3.7/dist-packages (from matplotlib->descartes) (3.0.9)\n",
            "Requirement already satisfied: numpy>=1.11 in /usr/local/lib/python3.7/dist-packages (from matplotlib->descartes) (1.21.6)\n",
            "Requirement already satisfied: python-dateutil>=2.1 in /usr/local/lib/python3.7/dist-packages (from matplotlib->descartes) (2.8.2)\n",
            "Requirement already satisfied: cycler>=0.10 in /usr/local/lib/python3.7/dist-packages (from matplotlib->descartes) (0.11.0)\n",
            "Requirement already satisfied: kiwisolver>=1.0.1 in /usr/local/lib/python3.7/dist-packages (from matplotlib->descartes) (1.4.4)\n",
            "Requirement already satisfied: typing-extensions in /usr/local/lib/python3.7/dist-packages (from kiwisolver>=1.0.1->matplotlib->descartes) (4.1.1)\n",
            "Requirement already satisfied: six>=1.5 in /usr/local/lib/python3.7/dist-packages (from python-dateutil>=2.1->matplotlib->descartes) (1.15.0)\n"
          ]
        }
      ]
    },
    {
      "cell_type": "code",
      "source": [
        "#Install the GeoPandas\n",
        "\n",
        "!pip install --upgrade geopandas"
      ],
      "metadata": {
        "id": "tIRleXwFvDC2",
        "colab": {
          "base_uri": "https://localhost:8080/"
        },
        "outputId": "c75dff34-6429-4f25-9617-03ea04c9b505"
      },
      "id": "tIRleXwFvDC2",
      "execution_count": 3,
      "outputs": [
        {
          "output_type": "stream",
          "name": "stdout",
          "text": [
            "Looking in indexes: https://pypi.org/simple, https://us-python.pkg.dev/colab-wheels/public/simple/\n",
            "Requirement already satisfied: geopandas in /usr/local/lib/python3.7/dist-packages (0.10.2)\n",
            "Requirement already satisfied: fiona>=1.8 in /usr/local/lib/python3.7/dist-packages (from geopandas) (1.8.21)\n",
            "Requirement already satisfied: pandas>=0.25.0 in /usr/local/lib/python3.7/dist-packages (from geopandas) (1.3.5)\n",
            "Requirement already satisfied: shapely>=1.6 in /usr/local/lib/python3.7/dist-packages (from geopandas) (1.8.4)\n",
            "Requirement already satisfied: pyproj>=2.2.0 in /usr/local/lib/python3.7/dist-packages (from geopandas) (3.2.1)\n",
            "Requirement already satisfied: certifi in /usr/local/lib/python3.7/dist-packages (from fiona>=1.8->geopandas) (2022.9.24)\n",
            "Requirement already satisfied: click-plugins>=1.0 in /usr/local/lib/python3.7/dist-packages (from fiona>=1.8->geopandas) (1.1.1)\n",
            "Requirement already satisfied: six>=1.7 in /usr/local/lib/python3.7/dist-packages (from fiona>=1.8->geopandas) (1.15.0)\n",
            "Requirement already satisfied: munch in /usr/local/lib/python3.7/dist-packages (from fiona>=1.8->geopandas) (2.5.0)\n",
            "Requirement already satisfied: attrs>=17 in /usr/local/lib/python3.7/dist-packages (from fiona>=1.8->geopandas) (22.1.0)\n",
            "Requirement already satisfied: cligj>=0.5 in /usr/local/lib/python3.7/dist-packages (from fiona>=1.8->geopandas) (0.7.2)\n",
            "Requirement already satisfied: click>=4.0 in /usr/local/lib/python3.7/dist-packages (from fiona>=1.8->geopandas) (7.1.2)\n",
            "Requirement already satisfied: setuptools in /usr/local/lib/python3.7/dist-packages (from fiona>=1.8->geopandas) (57.4.0)\n",
            "Requirement already satisfied: numpy>=1.17.3 in /usr/local/lib/python3.7/dist-packages (from pandas>=0.25.0->geopandas) (1.21.6)\n",
            "Requirement already satisfied: pytz>=2017.3 in /usr/local/lib/python3.7/dist-packages (from pandas>=0.25.0->geopandas) (2022.4)\n",
            "Requirement already satisfied: python-dateutil>=2.7.3 in /usr/local/lib/python3.7/dist-packages (from pandas>=0.25.0->geopandas) (2.8.2)\n"
          ]
        }
      ]
    },
    {
      "cell_type": "code",
      "source": [
        "#Download the data used in this notebook\n",
        "!gdown 1b1lngOIvuNnZxepbT8RyV3KX1itRky5z"
      ],
      "metadata": {
        "id": "bdKuowGVyGeO",
        "colab": {
          "base_uri": "https://localhost:8080/"
        },
        "outputId": "e70a49ec-4cb5-4709-8922-10b1742440a8"
      },
      "id": "bdKuowGVyGeO",
      "execution_count": 4,
      "outputs": [
        {
          "output_type": "stream",
          "name": "stdout",
          "text": [
            "Downloading...\n",
            "From: https://drive.google.com/uc?id=1b1lngOIvuNnZxepbT8RyV3KX1itRky5z\n",
            "To: /content/data.zip\n",
            "\r  0% 0.00/25.8M [00:00<?, ?B/s]\r100% 25.8M/25.8M [00:00<00:00, 303MB/s]\n"
          ]
        }
      ]
    },
    {
      "cell_type": "code",
      "source": [
        "#Unzip the data used in this notebook\n",
        "!unzip '/content/data.zip'"
      ],
      "metadata": {
        "id": "5rkcEABq13_8",
        "colab": {
          "base_uri": "https://localhost:8080/"
        },
        "outputId": "db88e6db-f01f-43d1-ef5d-5e6f145b396c"
      },
      "id": "5rkcEABq13_8",
      "execution_count": 5,
      "outputs": [
        {
          "output_type": "stream",
          "name": "stdout",
          "text": [
            "Archive:  /content/data.zip\n",
            "replace data/damselfish-data/DAMSELFISH_distributions.cpg? [y]es, [n]o, [A]ll, [N]one, [r]ename: "
          ]
        }
      ]
    },
    {
      "cell_type": "code",
      "execution_count": 6,
      "id": "77589768",
      "metadata": {
        "id": "77589768"
      },
      "outputs": [],
      "source": [
        "#Import GeoPandas and other required modules for the notebook\n",
        "import geopandas as gpd\n",
        "import pandas as pd\n",
        "import matplotlib.pyplot as plt\n",
        "\n",
        "import warnings\n",
        "warnings.filterwarnings('ignore')"
      ]
    },
    {
      "cell_type": "markdown",
      "id": "f4a3ef56",
      "metadata": {
        "id": "f4a3ef56"
      },
      "source": [
        "\n",
        "\n",
        "\n",
        "\n",
        "References:    \n",
        "1. Geopandas official website: Introduction to GeoPandas\n",
        "https://geopandas.org/en/stable/getting_started/introduction.html   \n",
        "2. Automating GIS process\n",
        "https://autogis-site.readthedocs.io/en/latest/notebooks/L2/01-geopandas-basics.html    \n",
        "3. Use Data for Earth and Environmental Science in Open Source Python\n",
        "https://www.earthdatascience.org/courses/use-data-open-source-python/\n",
        "4. The Shapely User Manual \n",
        "https://shapely.readthedocs.io/en/stable/manual.html\n",
        "5. Geospatial Analysis with Python and R \n",
        "https://kodu.ut.ee/~kmoch/geopython2020/index.html\n",
        "6. Introduction to Geospatial Data in Python \n",
        "https://www.datacamp.com/tutorial/geospatial-data-python"
      ]
    },
    {
      "cell_type": "markdown",
      "source": [
        "# Learning goals\n",
        "1. Understand the data structure of GeoPandas\n",
        "2. Read and write geospatial data with GeoPandas\n",
        "3. Access geospatial data attributes and methods using GeoPandas\n",
        "4. Perform spatial operations with GeoPandas"
      ],
      "metadata": {
        "id": "_s3ytYuzvg4N"
      },
      "id": "_s3ytYuzvg4N"
    },
    {
      "cell_type": "markdown",
      "id": "ecf116e7",
      "metadata": {
        "id": "ecf116e7"
      },
      "source": [
        "## 1. GeoPandas Introduction\n",
        "**GeoPandas** extends the data science library pandas for geospatial data by combining: \n",
        "* **Pandas**: data analysis\n",
        "* **Shapely**: handle geometries (Deterministic spatial analysis - set theoretic manipulations of planar features)\n",
        "* **Fiona**: read and write files\n",
        "* **pyproj**: manage coordinate reference systems\n",
        "* **matplotlib**: plotting.\n"
      ]
    },
    {
      "cell_type": "markdown",
      "id": "ef9eb787",
      "metadata": {
        "id": "ef9eb787"
      },
      "source": [
        "## 2. Geopandas Data Structure\n",
        "* The core data structure is **geopandas.GeoDataFrame**, a subclass of pandas.DataFrame.\n",
        "* The main difference between GeoDataFrame and DataFrame is that GeoDataFrame contains at least one column **'geometry'**, which contains shapely objects, e.g. points, lines, polygons, multipolygons, etc.\n",
        "* **geopandas.GeoSeries** is a subclass of pandas.Series. GeoSeries can contain any geometry type and has a GeoSeries.crs attribute (Coordinate Reference System) for projection.\n",
        "* **GeoDataFrame combines** pandas.Series with traditional data (numerical, boolean, text, etc.) and geopandas.GeoSeries, thus can work with geospatial data."
      ]
    },
    {
      "cell_type": "code",
      "execution_count": null,
      "id": "a6229cfa",
      "metadata": {
        "id": "a6229cfa"
      },
      "outputs": [],
      "source": [
        "### Create a GeoPandas GeoDataFrame from a Pandas DataFrame with coordiantes\n",
        "### Tutorial: https://geopandas.org/en/stable/gallery/create_geopandas_from_pandas.html\n",
        "\n",
        "# Create Pandas DataFrame from csv used in the Pandas exercise\n",
        "path = r'/content/data/usgs_earthquakes_2014.csv'\n",
        "df_earthquakes = pd.read_csv(path)  "
      ]
    },
    {
      "cell_type": "code",
      "execution_count": null,
      "id": "a5158be7",
      "metadata": {
        "id": "a5158be7"
      },
      "outputs": [],
      "source": [
        "#Have a look at the Pandas DataFrame \n",
        "df_earthquakes.head(2)"
      ]
    },
    {
      "cell_type": "code",
      "execution_count": null,
      "id": "953af241",
      "metadata": {
        "id": "953af241"
      },
      "outputs": [],
      "source": [
        "# Create GeoPandas GeoDataFrame from the Pandas DataFrame\n",
        "gdf_earthquakes = gpd.GeoDataFrame(df_earthquakes, geometry=gpd.points_from_xy(df_earthquakes.longitude, df_earthquakes.latitude))"
      ]
    },
    {
      "cell_type": "code",
      "execution_count": null,
      "id": "293ce6f8",
      "metadata": {
        "id": "293ce6f8"
      },
      "outputs": [],
      "source": [
        "# Have a look at the GeoPandas GeoDataFrame and notice the 'geometry' column\n",
        "gdf_earthquakes.head(2)"
      ]
    },
    {
      "cell_type": "code",
      "execution_count": null,
      "id": "e5153c48",
      "metadata": {
        "id": "e5153c48"
      },
      "outputs": [],
      "source": [
        "# Take a quick look at the geospatial data contained in the GeoDataFrame on a map\n",
        "ax = gdf_earthquakes.plot()"
      ]
    },
    {
      "cell_type": "markdown",
      "id": "6a9e94f8",
      "metadata": {
        "id": "6a9e94f8"
      },
      "source": [
        "## 3. Read and write files\n",
        "### 3.1 GeoPandas for handing vector format spatial data\n",
        "* Three fundamental types of **geometric objects** (the spatial data model implemented by shapely & defined by *interior, boundary, and exterior*): \n",
        "    * **Point**: A single point defined by a pair of x, y coordinates, e.g. locations of trees\n",
        "        * *Point class*. *Interior* - exactly one point. *Boundary* - exactly no points. *Exterior* - all other points\n",
        "    * **Line**: At least two connected points, e.g. roads, streams\n",
        "        * *LineString and LinearRing classes*. *Interior* - the infinitely many points along its length. *Boundary* - Two end points. *Exterior* - all other points. \n",
        "    * **Polygon**: At least three points connected and closed by lines, e.g. boundaries of lakes, countries.\n",
        "        * *Polygon class*. *Interior* - the infinitely many points within. *Boundary* - one or more lines. *Exterior* - all other points.  \n",
        "       \n",
        "### 3.2 Reading files\n",
        "* Assuming you have a file containing both data and geometry (e.g. GeoPackage, GeoJSON, Shapefile), you can read it using geopandas.read_file(), which automatically detects the filetype and creates a GeoDataFrame. \n",
        "\n",
        "### 3.3 Writing files\n",
        "* To write a GeoDataFrame back to file use GeoDataFrame.to_file(). The default file format is Shapefile, but you can specify your own with the driver keyword."
      ]
    },
    {
      "cell_type": "code",
      "execution_count": null,
      "id": "5afc2588",
      "metadata": {
        "id": "5afc2588"
      },
      "outputs": [],
      "source": [
        "# Set filepath \n",
        "path = r\"/content/data/damselfish-data/DAMSELFISH_distributions.shp\""
      ]
    },
    {
      "cell_type": "code",
      "execution_count": null,
      "id": "8b3d29a5",
      "metadata": {
        "id": "8b3d29a5"
      },
      "outputs": [],
      "source": [
        "# Read data into a GeoDataFrame\n",
        "gdf_DAMSELFISH = gpd.read_file(path)"
      ]
    },
    {
      "cell_type": "code",
      "execution_count": null,
      "id": "c36d351e",
      "metadata": {
        "id": "c36d351e"
      },
      "outputs": [],
      "source": [
        "# Check type of the data\n",
        "type(gdf_DAMSELFISH)"
      ]
    },
    {
      "cell_type": "code",
      "execution_count": null,
      "id": "b9d825ae",
      "metadata": {
        "id": "b9d825ae"
      },
      "outputs": [],
      "source": [
        "# Take a quick look at the data\n",
        "gdf_DAMSELFISH.head(3)"
      ]
    },
    {
      "cell_type": "code",
      "execution_count": null,
      "id": "2c6385cc",
      "metadata": {
        "id": "2c6385cc"
      },
      "outputs": [],
      "source": [
        "# Take a quick look at the data on a map\n",
        "ax = gdf_DAMSELFISH.plot()"
      ]
    },
    {
      "cell_type": "code",
      "execution_count": null,
      "id": "901280c2",
      "metadata": {
        "id": "901280c2"
      },
      "outputs": [],
      "source": [
        "# Create a output path for the data\n",
        "out_file_path = r\"/content/data/damselfish-data/DAMSELFISH_distributions_SELECTION.shp\"\n",
        "\n",
        "# Select first 50 rows, this a the numpy/pandas syntax to ``slice`` parts out a dataframe or array, from position 0 until (excluding) 50\n",
        "selection = gdf_DAMSELFISH[0:50]\n",
        "\n",
        "# Write those rows into a new Shapefile (the default output file format is Shapefile)\n",
        "selection.to_file(out_file_path)"
      ]
    },
    {
      "cell_type": "code",
      "execution_count": null,
      "id": "e6f42f69",
      "metadata": {
        "id": "e6f42f69"
      },
      "outputs": [],
      "source": [
        "# Look at the geometries in the GeoDataFrame\n",
        "gdf_DAMSELFISH['geometry'].head(3)"
      ]
    },
    {
      "cell_type": "code",
      "execution_count": null,
      "id": "d13c199f",
      "metadata": {
        "id": "d13c199f"
      },
      "outputs": [],
      "source": [
        "# Check type of the geometry\n",
        "type(gdf_DAMSELFISH['geometry'][0])"
      ]
    },
    {
      "cell_type": "markdown",
      "id": "b3440cb5",
      "metadata": {
        "id": "b3440cb5"
      },
      "source": [
        "## 4. Attributes and Methods\n",
        "### 4.1 Area and distance\n",
        "* To measure the area of each polygon (or MultiPolygon in this specific case), access the GeoDataFrame.area attribute, which returns a pandas.Series. Note that GeoDataFrame.area is just GeoSeries.area applied to the active geometry column.\n",
        "* Euclidian distance between points\n",
        "\n",
        "### 4.2 Boundary and centroid\n",
        "* To get the boundary of each polygon (LineString), access the GeoDataFrame.boundary\n",
        "* Centroid of line, polygon\n",
        "\n",
        "### 4.3 Projection\n",
        "* Coordinate reference systems (CRS) are important because the geometric shapes in a GeoDataFrame are simply a collection of coordinates in an arbitrary space. A CRS tells Python how those coordinates related to places on the Earth. A map projection (or a projected coordinate system) is a systematic transformation of the latitudes and longitudes into a plain surface where units are quite commonly represented as meters (instead of decimal degrees).\n",
        "\n",
        "* As map projections of gis-layers are fairly often defined differently (i.e. they do not match), it is a common procedure to redefine the map projections to be identical in both layers. It is important that the layers have the same projection as it makes it possible to analyze the spatial relationships between layers, such as in conducting the Point in Polygon spatial query.\n",
        "* The EPSG number (“European Petroleum Survey Group”) is a code that tells about the coordinate system of the dataset.\n",
        "\n",
        "### 4.4 Plot\n",
        "* GeoPandas can plot maps, so we can check how the geometries appear in space. To plot the active geometry, call GeoDataFrame.plot()."
      ]
    },
    {
      "cell_type": "code",
      "execution_count": null,
      "id": "e1a7ee78",
      "metadata": {
        "id": "e1a7ee78"
      },
      "outputs": [],
      "source": [
        "# Calculate and store the areas individual polygons\n",
        "gdf_DAMSELFISH['area'] = gdf_DAMSELFISH.area\n",
        "gdf_DAMSELFISH['area'].head(3)"
      ]
    },
    {
      "cell_type": "code",
      "execution_count": null,
      "id": "92d50011",
      "metadata": {
        "id": "92d50011"
      },
      "outputs": [],
      "source": [
        "# Get the boundary of each polygon \n",
        "gdf_DAMSELFISH['boundary'] = gdf_DAMSELFISH.boundary\n",
        "gdf_DAMSELFISH['boundary'].head(3)"
      ]
    },
    {
      "cell_type": "code",
      "execution_count": null,
      "id": "8d6526e8",
      "metadata": {
        "id": "8d6526e8"
      },
      "outputs": [],
      "source": [
        "# Get the centroid of each polygon\n",
        "gdf_DAMSELFISH['centroid'] = gdf_DAMSELFISH.centroid\n",
        "gdf_DAMSELFISH['centroid'].head(3)"
      ]
    },
    {
      "cell_type": "code",
      "execution_count": null,
      "id": "450b9bfb",
      "metadata": {
        "id": "450b9bfb"
      },
      "outputs": [],
      "source": [
        "# Measure distance between each centroid and the first centroid\n",
        "first_point = gdf_DAMSELFISH['centroid'].iloc[0]\n",
        "gdf_DAMSELFISH['distance'] = gdf_DAMSELFISH['centroid'].distance(first_point)\n",
        "gdf_DAMSELFISH['distance'].head(3)"
      ]
    },
    {
      "cell_type": "code",
      "execution_count": null,
      "id": "46181537",
      "metadata": {
        "id": "46181537"
      },
      "outputs": [],
      "source": [
        "# Reading the data from the Europe_borders.shp file\n",
        "path =  r\"/content/data/Europe_borders/Europe_borders.shp\"\n",
        "gdf_Europe_borders = gpd.read_file(path)"
      ]
    },
    {
      "cell_type": "code",
      "execution_count": null,
      "id": "022d2007",
      "metadata": {
        "id": "022d2007"
      },
      "outputs": [],
      "source": [
        "# See the current coordinate reference system from .crs attribute\n",
        "gdf_Europe_borders.crs"
      ]
    },
    {
      "cell_type": "code",
      "execution_count": null,
      "id": "c0d84473",
      "metadata": {
        "id": "c0d84473"
      },
      "outputs": [],
      "source": [
        "# Convert (aka reproject) into Lambert Azimuthal Equal Area projection (EPSG: 3035)\n",
        "gdf_Europe_borders_proj = gdf_Europe_borders.to_crs(epsg=3035)"
      ]
    },
    {
      "cell_type": "code",
      "execution_count": null,
      "id": "dfbb8c1f",
      "metadata": {
        "id": "dfbb8c1f"
      },
      "outputs": [],
      "source": [
        "# See the current coordinate reference system from .crs attribute\n",
        "gdf_Europe_borders_proj.crs"
      ]
    },
    {
      "cell_type": "code",
      "execution_count": null,
      "id": "d11d7a7e",
      "metadata": {
        "id": "d11d7a7e"
      },
      "outputs": [],
      "source": [
        "# Plot GeoDataFrames\n",
        "# Understand the difference between the projections\n",
        "fig, axs = plt.subplots(1, 2, figsize=(8, 4))\n",
        "# Plot the WGS84\n",
        "gdf_Europe_borders.plot(facecolor='gray', ax=axs[0]);\n",
        "\n",
        "# Add title\n",
        "axs[0].set_title(\"WGS84 CRS\", y=1.05);\n",
        "\n",
        "# Plot the one with ETRS-LAEA projection\n",
        "gdf_Europe_borders_proj.plot(facecolor='blue', ax=axs[1]);\n",
        "\n",
        "# Add title\n",
        "axs[1].set_title(\"ETRS Lambert Azimuthal Equal Area projection\", y=1.05);\n",
        "\n",
        "# Remove empty white space around the plot\n",
        "fig.tight_layout()"
      ]
    },
    {
      "cell_type": "markdown",
      "id": "59378219",
      "metadata": {
        "id": "59378219"
      },
      "source": [
        "## 5. Spatial Relationships and Operations\n",
        "\n",
        "### 5.1 Geometric Manipulations\n",
        "GeoPandas makes available all the tools for geometric manipulations in the shapely library: buffer, boundary, convex_hull, envelope, unary_union\n",
        "### 5.2 Set-Operations with Overlay\n",
        "When working with multiple spatial datasets – especially multiple polygon or line datasets – users often wish to create new shapes based on places where those datasets overlap (or don’t overlap). These manipulations are often referred using the language of sets – intersections, unions, and differences. These types of operations are made available in the geopandas library through the overlay() method."
      ]
    },
    {
      "cell_type": "code",
      "execution_count": null,
      "id": "55e353ac",
      "metadata": {
        "id": "55e353ac"
      },
      "outputs": [],
      "source": [
        "# Tutorial: https://geopandas.org/en/stable/docs/user_guide/geometric_manipulations.html\n",
        "\n",
        "# Generate a GeoSeries containing 2000 random points\n",
        "import numpy as np\n",
        "from shapely.geometry import Point\n",
        "xmin, xmax, ymin, ymax = 900000, 1080000, 120000, 280000\n",
        "xc = (xmax - xmin) * np.random.random(2000) + xmin\n",
        "yc = (ymax - ymin) * np.random.random(2000) + ymin\n",
        "pts = gpd.GeoSeries([Point(x, y) for x, y in zip(xc, yc)])"
      ]
    },
    {
      "cell_type": "code",
      "execution_count": null,
      "id": "7ba82ce3",
      "metadata": {
        "id": "7ba82ce3"
      },
      "outputs": [],
      "source": [
        "# Draw a circle with fixed radius around each point\n",
        "circles = pts.buffer(2000)"
      ]
    },
    {
      "cell_type": "code",
      "execution_count": null,
      "id": "82ef3ea9",
      "metadata": {
        "id": "82ef3ea9"
      },
      "outputs": [],
      "source": [
        "# Collapse these circles into a single MultiPolygon geometry with\n",
        "mp = circles.unary_union"
      ]
    },
    {
      "cell_type": "code",
      "execution_count": null,
      "id": "a70507ea",
      "metadata": {
        "id": "a70507ea"
      },
      "outputs": [],
      "source": [
        "mp"
      ]
    },
    {
      "cell_type": "code",
      "execution_count": null,
      "id": "c0dcc61f",
      "metadata": {
        "id": "c0dcc61f"
      },
      "outputs": [],
      "source": [
        "type(mp)"
      ]
    },
    {
      "cell_type": "code",
      "execution_count": 7,
      "id": "708c8b59",
      "metadata": {
        "id": "708c8b59",
        "colab": {
          "base_uri": "https://localhost:8080/",
          "height": 282
        },
        "outputId": "9db0c7cd-30c2-42e8-dedf-b253504a448f"
      },
      "outputs": [
        {
          "output_type": "execute_result",
          "data": {
            "text/plain": [
              "<matplotlib.axes._subplots.AxesSubplot at 0x7fa53d888ad0>"
            ]
          },
          "metadata": {},
          "execution_count": 7
        },
        {
          "output_type": "display_data",
          "data": {
            "text/plain": [
              "<Figure size 432x288 with 1 Axes>"
            ],
            "image/png": "[encoded data removed]"
          },
          "metadata": {
            "needs_background": "light"
          }
        }
      ],
      "source": [
        "# Tutorial: https://geopandas.org/en/stable/docs/user_guide/set_operations.html\n",
        "# Create some example data\n",
        "from shapely.geometry import Polygon\n",
        "\n",
        "polys1 = gpd.GeoSeries([Polygon([(0,0), (2,0), (2,2), (0,2)]),\n",
        "                              Polygon([(2,2), (4,2), (4,4), (2,4)])])\n",
        "\n",
        "\n",
        "polys2 = gpd.GeoSeries([Polygon([(1,1), (3,1), (3,3), (1,3)]),\n",
        "                              Polygon([(3,3), (5,3), (5,5), (3,5)])])\n",
        "\n",
        "\n",
        "df1 = gpd.GeoDataFrame({'geometry': polys1, 'df1':[1,2]})\n",
        "\n",
        "df2 = gpd.GeoDataFrame({'geometry': polys2, 'df2':[1,2]})\n",
        "\n",
        "ax = df1.plot(color='red');\n",
        "\n",
        "df2.plot(ax=ax, color='green', alpha=0.5)"
      ]
    },
    {
      "cell_type": "code",
      "execution_count": 8,
      "id": "9503ce15",
      "metadata": {
        "id": "9503ce15"
      },
      "outputs": [],
      "source": [
        "# The overlay() method with how='intersection', it returns only those geometries that are contained by both GeoDataFrames:\n",
        "res_intersection = df1.overlay(df2, how='intersection')"
      ]
    },
    {
      "cell_type": "code",
      "execution_count": 9,
      "id": "c57bc475",
      "metadata": {
        "id": "c57bc475",
        "colab": {
          "base_uri": "https://localhost:8080/",
          "height": 282
        },
        "outputId": "cb828b9f-7ed3-442d-8f31-a0b3933670e2"
      },
      "outputs": [
        {
          "output_type": "execute_result",
          "data": {
            "text/plain": [
              "<matplotlib.axes._subplots.AxesSubplot at 0x7fa53af88290>"
            ]
          },
          "metadata": {},
          "execution_count": 9
        },
        {
          "output_type": "display_data",
          "data": {
            "text/plain": [
              "<Figure size 432x288 with 1 Axes>"
            ],
            "image/png": "[encoded data removed]"
          },
          "metadata": {
            "needs_background": "light"
          }
        }
      ],
      "source": [
        "ax = res_intersection.plot(cmap='tab10')\n",
        "\n",
        "df1.plot(ax=ax, facecolor='none', edgecolor='k');\n",
        "\n",
        "df2.plot(ax=ax, facecolor='none', edgecolor='k')"
      ]
    }
  ],
  "metadata": {
    "kernelspec": {
      "display_name": "Python 3 (ipykernel)",
      "language": "python",
      "name": "python3"
    },
    "language_info": {
      "codemirror_mode": {
        "name": "ipython",
        "version": 3
      },
      "file_extension": ".py",
      "mimetype": "text/x-python",
      "name": "python",
      "nbconvert_exporter": "python",
      "pygments_lexer": "ipython3",
      "version": "3.9.7"
    },
    "colab": {
      "provenance": [],
      "include_colab_link": true
    }
  },
  "nbformat": 4,
  "nbformat_minor": 5
}